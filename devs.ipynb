{
 "cells": [
  {
   "cell_type": "code",
   "execution_count": 1,
   "metadata": {},
   "outputs": [],
   "source": [
    "num = ['zero', 'one', 'two', 'three', 'four', 'five', 'six', 'seven', 'eight', 'nine']"
   ]
  },
  {
   "attachments": {},
   "cell_type": "markdown",
   "metadata": {},
   "source": [
    "# Leval 1 Addition"
   ]
  },
  {
   "cell_type": "code",
   "execution_count": 2,
   "metadata": {},
   "outputs": [],
   "source": [
    "import random\n",
    "import math\n",
    "\n",
    "def addision():\n",
    "    sum = 10\n",
    "    while sum > 9:\n",
    "        n = [math.floor(random.random()* 10) for i in range(0,3)]\n",
    "        if n[0] and n[1] != 0:\n",
    "            sum = n[0] + n[1]\n",
    "    expression = f'{n[0]} + {n[1]}'\n",
    "    string = f'{num[n[0]]} plus {num[n[1]]}'\n",
    "    return string, expression, sum\n",
    "\n"
   ]
  },
  {
   "attachments": {},
   "cell_type": "markdown",
   "metadata": {},
   "source": [
    "# Leval 2 Subtraktion"
   ]
  },
  {
   "cell_type": "code",
   "execution_count": 3,
   "metadata": {},
   "outputs": [],
   "source": [
    "def subtraktion():\n",
    "    sum = -1\n",
    "    while sum < 0:\n",
    "        n = [math.floor(random.random()* 10) for i in range(0,3)]\n",
    "        if n[0] and n[1] != 0:\n",
    "            sum = n[0] - n[1]\n",
    "    expression = f'{n[0]} - {n[1]}'\n",
    "    string = f'{num[n[0]]} minus {num[n[1]]}'\n",
    "    return string, expression, sum"
   ]
  },
  {
   "attachments": {},
   "cell_type": "markdown",
   "metadata": {},
   "source": [
    "# Leval 3 Addition or Subtraktion"
   ]
  },
  {
   "cell_type": "code",
   "execution_count": 4,
   "metadata": {},
   "outputs": [
    {
     "data": {
      "text/plain": [
       "('one plus four', '1 + 4', 5)"
      ]
     },
     "execution_count": 4,
     "metadata": {},
     "output_type": "execute_result"
    }
   ],
   "source": [
    "def leval_3():\n",
    "    add_or_sum = math.floor(random.random()* 10)\n",
    "    if add_or_sum < 4.5:\n",
    "        return addision()\n",
    "    else:\n",
    "        return subtraktion()\n",
    "\n",
    "leval_3()"
   ]
  },
  {
   "attachments": {},
   "cell_type": "markdown",
   "metadata": {},
   "source": [
    "# Leval 4 Addition AND Subtraktion"
   ]
  },
  {
   "cell_type": "code",
   "execution_count": 5,
   "metadata": {},
   "outputs": [],
   "source": [
    "def add_and_sub():\n",
    "    sum = -1\n",
    "    while sum < 0 or sum > 9:\n",
    "        n = [math.floor(random.random()* 10) for i in range(0,3)]\n",
    "        if n[0] and n[1] and n[2] != 0:\n",
    "            sum = n[0] - n[1] + n[2]\n",
    "    expression = f'{n[0]} - {n[1]} + {n[2]}'\n",
    "    string = f'{num[n[0]]} minus {num[n[1]]} plus {num[n[2]]}'\n",
    "    return string, expression, sum"
   ]
  },
  {
   "cell_type": "code",
   "execution_count": 6,
   "metadata": {},
   "outputs": [
    {
     "name": "stdout",
     "output_type": "stream",
     "text": [
      "('nine minus nine plus six', '9 - 9 + 6', 6)\n"
     ]
    }
   ],
   "source": [
    "print(add_and_sub())"
   ]
  },
  {
   "attachments": {},
   "cell_type": "markdown",
   "metadata": {},
   "source": [
    "# Leval 5 Addition OR Subtraktion AND  Division"
   ]
  },
  {
   "cell_type": "code",
   "execution_count": 7,
   "metadata": {},
   "outputs": [],
   "source": [
    "def div_and_add():\n",
    "    sum = -1\n",
    "    while sum < 0 or sum > 9:\n",
    "        n = [math.floor(random.random()* 10) for i in range(0,3)]\n",
    "        if n[0] and n[1] and n[2] != 0 and n[1] != 1:\n",
    "            if n[0] % n[1] == 0 and n[0] != n[1]:\n",
    "                sum = n[0] / n[1] + n[2]\n",
    "    expression = f'{n[0]} / {n[1]} + {n[2]}'\n",
    "    string = f'{num[n[0]]} divided by {num[n[1]]} plus {num[n[2]]}'\n",
    "    return string, expression, sum\n",
    "\n",
    "def div_and_sub():\n",
    "    sum = -1\n",
    "    while sum < 0 or sum > 9:\n",
    "        n = [math.floor(random.random()* 10) for i in range(0,3)]\n",
    "        if n[0] and n[1] and n[2] != 0 and n[1] != 1:\n",
    "            if n[0] % n[1] == 0 and n[0] != n[1]:\n",
    "                sum = n[0] / n[1] - n[2]\n",
    "    expression = f'{n[0]} / {n[1]} - {n[2]}'\n",
    "    string = f'{num[n[0]]} divided by {num[n[1]]} minus {num[n[2]]}'\n",
    "    return string, expression, sum\n",
    "\n"
   ]
  },
  {
   "cell_type": "code",
   "execution_count": 8,
   "metadata": {},
   "outputs": [
    {
     "data": {
      "text/plain": [
       "('eight divided by two minus one', '8 / 2 - 1', 3.0)"
      ]
     },
     "execution_count": 8,
     "metadata": {},
     "output_type": "execute_result"
    }
   ],
   "source": [
    "def leval_4():\n",
    "    add_or_sum = math.floor(random.random()* 10)\n",
    "    if add_or_sum < 4.5:\n",
    "        return div_and_add()\n",
    "    else:\n",
    "        return div_and_sub()\n",
    "\n",
    "leval_4()"
   ]
  },
  {
   "attachments": {},
   "cell_type": "markdown",
   "metadata": {},
   "source": [
    "# Leval 5 Addition OR Subtraktion AND Multiplication OR Division"
   ]
  },
  {
   "cell_type": "code",
   "execution_count": 9,
   "metadata": {},
   "outputs": [],
   "source": [
    "def multi_and_add():\n",
    "    sum = -1\n",
    "    while sum < 0 or sum > 9:\n",
    "        n = [math.floor(random.random()* 10) for i in range(0,3)]\n",
    "        if n[0] and n[1] and n[2] != 0:\n",
    "            if n[0] != 1 and n[1] != 1:\n",
    "                sum = n[0] * n[1] + n[2]\n",
    "    expression = f'{n[0]} x {n[1]} - {n[2]}'\n",
    "    string = f'{num[n[0]]} times {num[n[1]]} plus {num[n[2]]}'\n",
    "    return string, expression, sum\n",
    "\n",
    "def multi_and_sub():\n",
    "    sum = -1\n",
    "    while sum < 0 or sum > 9:\n",
    "        n = [math.floor(random.random()* 10) for i in range(0,3)]\n",
    "        if n[0] and n[1] and n[2] != 0:\n",
    "            if n[0] != 1 and n[1] != 1:\n",
    "                sum = n[0] * n[1] - n[2]\n",
    "    expression = f'{n[0]} x {n[1]} - {n[2]}'\n",
    "    string = f'{num[n[0]]} times {num[n[1]]} minus {num[n[2]]}'\n",
    "    return string, expression, sum\n"
   ]
  },
  {
   "cell_type": "code",
   "execution_count": 10,
   "metadata": {},
   "outputs": [
    {
     "data": {
      "text/plain": [
       "('three times three minus six', '3 x 3 - 6', 3)"
      ]
     },
     "execution_count": 10,
     "metadata": {},
     "output_type": "execute_result"
    }
   ],
   "source": [
    "def leval_5():\n",
    "    add_or_sum = math.floor(random.random()* 10)\n",
    "    if add_or_sum < 4.5:\n",
    "        return multi_and_add()\n",
    "    else:\n",
    "        return multi_and_sub()\n",
    "\n",
    "leval_5()"
   ]
  },
  {
   "cell_type": "code",
   "execution_count": 11,
   "metadata": {},
   "outputs": [],
   "source": [
    "# Game leval class\n",
    "\n",
    "class question:\n",
    "\n",
    "    def random_choice():\n",
    "        random_int = math.floor(random.random()* 10)\n",
    "        if random_int < 4.5:\n",
    "            return True\n",
    "        else:\n",
    "            return False\n",
    "\n",
    "    def add():\n",
    "        sum = 10\n",
    "        while sum > 9:\n",
    "            n = [math.floor(random.random()* 10) for i in range(0,3)]\n",
    "            if n[0] and n[1] != 0:\n",
    "                sum = n[0] + n[1]\n",
    "        expression = f'{n[0]} + {n[1]}'\n",
    "        string = f'{num[n[0]]} plus {num[n[1]]}'\n",
    "        return string, expression, sum\n",
    "        \n",
    "    def sub():\n",
    "        sum = -1\n",
    "        while sum < 0:\n",
    "            n = [math.floor(random.random()* 10) for i in range(0,3)]\n",
    "            if n[0] and n[1] != 0:\n",
    "                sum = n[0] - n[1]\n",
    "        expression = f'{n[0]} - {n[1]}'\n",
    "        string = f'{num[n[0]]} minus {num[n[1]]}'\n",
    "        return string, expression, sum\n",
    "    \n",
    "    def add_and_sub():\n",
    "        sum = -1\n",
    "        while sum < 0 or sum > 9:\n",
    "            n = [math.floor(random.random()* 10) for i in range(0,3)]\n",
    "            if n[0] and n[1] and n[2] != 0:\n",
    "                sum = n[0] - n[1] + n[2]\n",
    "        expression = f'{n[0]} - {n[1]} + {n[2]}'\n",
    "        string = f'{num[n[0]]} minus {num[n[1]]} plus {num[n[2]]}'\n",
    "        return string, expression, sum\n",
    "\n",
    "    def div_and_add():\n",
    "        sum = -1\n",
    "        while sum < 0 or sum > 9:\n",
    "            n = [math.floor(random.random()* 10) for i in range(0,3)]\n",
    "            if n[0] and n[1] and n[2] != 0 and n[1] != 1:\n",
    "                if n[0] % n[1] == 0 and n[0] != n[1]:\n",
    "                    sum = n[0] / n[1] + n[2]\n",
    "        expression = f'{n[0]} / {n[1]} + {n[2]}'\n",
    "        string = f'{num[n[0]]} divided by {num[n[1]]} plus {num[n[2]]}'\n",
    "        return string, expression, sum\n",
    "\n",
    "    def div_and_sub():\n",
    "        sum = -1\n",
    "        while sum < 0 or sum > 9:\n",
    "            n = [math.floor(random.random()* 10) for i in range(0,3)]\n",
    "            if n[0] and n[1] and n[2] != 0 and n[1] != 1:\n",
    "                if n[0] % n[1] == 0 and n[0] != n[1]:\n",
    "                    sum = n[0] / n[1] - n[2]\n",
    "        expression = f'{n[0]} / {n[1]} - {n[2]}'\n",
    "        string = f'{num[n[0]]} divided by {num[n[1]]} minus {num[n[2]]}'\n",
    "        return string, expression, sum\n",
    "    \n",
    "    \n",
    "    def multi_and_add():\n",
    "        sum = -1\n",
    "        while sum < 0 or sum > 9:\n",
    "            n = [math.floor(random.random()* 10) for i in range(0,3)]\n",
    "            if n[0] and n[1] and n[2] != 0:\n",
    "                if n[0] != 1 and n[1] != 1:\n",
    "                    sum = n[0] * n[1] + n[2]\n",
    "        expression = f'{n[0]} x {n[1]} - {n[2]}'\n",
    "        string = f'{num[n[0]]} times {num[n[1]]} plus {num[n[2]]}'\n",
    "        return string, expression, sum\n",
    "\n",
    "    def multi_and_sub():\n",
    "        sum = -1\n",
    "        while sum < 0 or sum > 9:\n",
    "            n = [math.floor(random.random()* 10) for i in range(0,3)]\n",
    "            if n[0] and n[1] and n[2] != 0:\n",
    "                if n[0] != 1 and n[1] != 1:\n",
    "                    sum = n[0] * n[1] - n[2]\n",
    "        expression = f'{n[0]} x {n[1]} - {n[2]}'\n",
    "        string = f'{num[n[0]]} times {num[n[1]]} minus {num[n[2]]}'\n",
    "        return string, expression, sum"
   ]
  },
  {
   "cell_type": "code",
   "execution_count": 340,
   "metadata": {},
   "outputs": [],
   "source": [
    "def add_and_div():\n",
    "    sum = -1\n",
    "    while sum < 0 or sum > 9 or math.ceil(sum % 1):\n",
    "        n = [math.floor(random.random()* 10) for i in range(0,3)]\n",
    "        if n[0] and n[1] and n[2] != 0 and n[1] != 1:\n",
    "            if n[0] % n[1] == 0 and n[0] != n[1]:\n",
    "                sum = n[0] + n[1] / n[2]\n",
    "    \n",
    "    expression = f'{n[0]} + {n[1]} / {n[2]}'\n",
    "    string = f'{num[n[0]]} plus {num[n[1]]} divided by {num[n[2]]}'\n",
    "    return string, expression, sum"
   ]
  },
  {
   "cell_type": "code",
   "execution_count": 384,
   "metadata": {},
   "outputs": [],
   "source": [
    "\n",
    "def sub_and_div():\n",
    "    sum = -1\n",
    "    while sum < 0 or sum > 9 or math.ceil(sum % 1):\n",
    "        n = [math.floor(random.random()* 10) for i in range(0,3)]\n",
    "        if n[0] and n[1] and n[2] != 0 and n[1] != 1:\n",
    "            if n[0] % n[1] == 0 and n[0] != n[1]:\n",
    "                sum = n[0] - n[1] / n[2]\n",
    "    expression = f'{n[0]} - {n[1]} / {n[2]}'\n",
    "    string = f'{num[n[0]]} minus {num[n[1]]} divided by {num[n[2]]}'\n",
    "    return string, expression, sum"
   ]
  },
  {
   "cell_type": "code",
   "execution_count": 407,
   "metadata": {},
   "outputs": [
    {
     "data": {
      "text/plain": [
       "('nine minus three divided by one', '9 - 3 / 1', 6.0)"
      ]
     },
     "execution_count": 407,
     "metadata": {},
     "output_type": "execute_result"
    }
   ],
   "source": [
    "sub_and_div()"
   ]
  },
  {
   "cell_type": "code",
   "execution_count": 8,
   "metadata": {},
   "outputs": [
    {
     "data": {
      "text/plain": [
       "False"
      ]
     },
     "execution_count": 8,
     "metadata": {},
     "output_type": "execute_result"
    }
   ],
   "source": [
    "score = -1\n",
    "score > -1 and score < 5"
   ]
  },
  {
   "cell_type": "code",
   "execution_count": 1,
   "metadata": {},
   "outputs": [
    {
     "ename": "TypeError",
     "evalue": "range expected 1 argument, got 0",
     "output_type": "error",
     "traceback": [
      "\u001b[0;31m---------------------------------------------------------------------------\u001b[0m",
      "\u001b[0;31mTypeError\u001b[0m                                 Traceback (most recent call last)",
      "Cell \u001b[0;32mIn [1], line 1\u001b[0m\n\u001b[0;32m----> 1\u001b[0m \u001b[39mfor\u001b[39;00m i \u001b[39min\u001b[39;00m \u001b[39mrange\u001b[39;49m():\n\u001b[1;32m      2\u001b[0m     \u001b[39mprint\u001b[39m(i)\n",
      "\u001b[0;31mTypeError\u001b[0m: range expected 1 argument, got 0"
     ]
    }
   ],
   "source": [
    "for i in range():\n",
    "    print(i)"
   ]
  },
  {
   "cell_type": "code",
   "execution_count": null,
   "metadata": {},
   "outputs": [],
   "source": []
  }
 ],
 "metadata": {
  "kernelspec": {
   "display_name": "Python 3",
   "language": "python",
   "name": "python3"
  },
  "language_info": {
   "codemirror_mode": {
    "name": "ipython",
    "version": 3
   },
   "file_extension": ".py",
   "mimetype": "text/x-python",
   "name": "python",
   "nbconvert_exporter": "python",
   "pygments_lexer": "ipython3",
   "version": "3.8.9"
  },
  "orig_nbformat": 4,
  "vscode": {
   "interpreter": {
    "hash": "31f2aee4e71d21fbe5cf8b01ff0e069b9275f58929596ceb00d14d90e3e16cd6"
   }
  }
 },
 "nbformat": 4,
 "nbformat_minor": 2
}
