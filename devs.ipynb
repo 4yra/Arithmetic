{
 "cells": [
  {
   "cell_type": "code",
   "execution_count": 567,
   "metadata": {},
   "outputs": [],
   "source": [
    "num = ['zero', 'one', 'two', 'three', 'four', 'five', 'six', 'seven', 'eight', 'nine']"
   ]
  },
  {
   "attachments": {},
   "cell_type": "markdown",
   "metadata": {},
   "source": [
    "# Leval 1 Addition"
   ]
  },
  {
   "cell_type": "code",
   "execution_count": 607,
   "metadata": {},
   "outputs": [],
   "source": [
    "import random\n",
    "import math\n",
    "\n",
    "def addision():\n",
    "    sum = 10\n",
    "    while sum > 9:\n",
    "        n = [math.floor(random.random()* 10) for i in range(0,3)]\n",
    "        if n[0] and n[1] != 0:\n",
    "            sum = n[0] + n[1]\n",
    "    expression = f'{n[0]} + {n[1]}'\n",
    "    string = f'{num[n[0]]} plus {num[n[1]]}'\n",
    "    return string, expression, sum\n",
    "\n"
   ]
  },
  {
   "attachments": {},
   "cell_type": "markdown",
   "metadata": {},
   "source": [
    "# Leval 2 Subtraktion"
   ]
  },
  {
   "cell_type": "code",
   "execution_count": 618,
   "metadata": {},
   "outputs": [],
   "source": [
    "def subtraktion():\n",
    "    sum = -1\n",
    "    while sum < 0:\n",
    "        n = [math.floor(random.random()* 10) for i in range(0,3)]\n",
    "        if n[0] and n[1] != 0:\n",
    "            sum = n[0] - n[1]\n",
    "    expression = f'{n[0]} - {n[1]}'\n",
    "    string = f'{num[n[0]]} minus {num[n[1]]}'\n",
    "    return string, expression, sum"
   ]
  },
  {
   "attachments": {},
   "cell_type": "markdown",
   "metadata": {},
   "source": [
    "# Leval 3 Addition or Subtraktion"
   ]
  },
  {
   "cell_type": "code",
   "execution_count": 622,
   "metadata": {},
   "outputs": [
    {
     "data": {
      "text/plain": [
       "('three plus three', '3 + 3')"
      ]
     },
     "execution_count": 622,
     "metadata": {},
     "output_type": "execute_result"
    }
   ],
   "source": [
    "def leval_3():\n",
    "    add_or_sum = math.floor(random.random()* 10)\n",
    "    if add_or_sum < 4.5:\n",
    "        return addision()\n",
    "    else:\n",
    "        return subtraktion()\n",
    "\n",
    "leval_3()"
   ]
  },
  {
   "attachments": {},
   "cell_type": "markdown",
   "metadata": {},
   "source": [
    "# Leval 4 Addition AND Subtraktion"
   ]
  },
  {
   "cell_type": "code",
   "execution_count": 621,
   "metadata": {},
   "outputs": [],
   "source": [
    "def add_and_sub():\n",
    "    sum = -1\n",
    "    while sum < 0 or sum > 9:\n",
    "        n = [math.floor(random.random()* 10) for i in range(0,3)]\n",
    "        if n[0] and n[1] and n[2] != 0:\n",
    "            sum = n[0] - n[1] + n[2]\n",
    "    expression = f'{n[0]} - {n[1]} + {n[2]}'\n",
    "    string = f'{num[n[0]]} minus {num[n[1]]} plus {num[n[2]]}'\n",
    "    return string, expression, sum"
   ]
  },
  {
   "cell_type": "code",
   "execution_count": 624,
   "metadata": {},
   "outputs": [
    {
     "name": "stdout",
     "output_type": "stream",
     "text": [
      "3\n",
      "('seven minus nine plus five', '7 - 9 + 5')\n"
     ]
    }
   ],
   "source": [
    "print(add_and_sub())"
   ]
  },
  {
   "attachments": {},
   "cell_type": "markdown",
   "metadata": {},
   "source": [
    "# Leval 5 Addition OR Subtraktion AND  Division"
   ]
  },
  {
   "cell_type": "code",
   "execution_count": 625,
   "metadata": {},
   "outputs": [],
   "source": [
    "def div_and_add():\n",
    "    sum = -1\n",
    "    while sum < 0 or sum > 9:\n",
    "        n = [math.floor(random.random()* 10) for i in range(0,3)]\n",
    "        if n[0] and n[1] and n[2] != 0 and n[1] != 1:\n",
    "            if n[0] % n[1] == 0 and n[0] != n[1]:\n",
    "                sum = n[0] / n[1] + n[2]\n",
    "    expression = f'{n[0]} / {n[1]} + {n[2]}'\n",
    "    string = f'{num[n[0]]} divided by {num[n[1]]} plus {num[n[2]]}'\n",
    "    return string, expression, sum\n",
    "\n",
    "def div_and_sub():\n",
    "    sum = -1\n",
    "    while sum < 0 or sum > 9:\n",
    "        n = [math.floor(random.random()* 10) for i in range(0,3)]\n",
    "        if n[0] and n[1] and n[2] != 0 and n[1] != 1:\n",
    "            if n[0] % n[1] == 0 and n[0] != n[1]:\n",
    "                sum = n[0] / n[1] - n[2]\n",
    "    expression = f'{n[0]} / {n[1]} - {n[2]}'\n",
    "    string = f'{num[n[0]]} divided by {num[n[1]]} minus {num[n[2]]}'\n",
    "    return string, expression, sum\n",
    "\n"
   ]
  },
  {
   "cell_type": "code",
   "execution_count": 628,
   "metadata": {},
   "outputs": [
    {
     "name": "stdout",
     "output_type": "stream",
     "text": [
      "1.0\n"
     ]
    },
    {
     "data": {
      "text/plain": [
       "('eight divided by four minus one', '8 / 4 - 1')"
      ]
     },
     "execution_count": 628,
     "metadata": {},
     "output_type": "execute_result"
    }
   ],
   "source": [
    "def leval_4():\n",
    "    add_or_sum = math.floor(random.random()* 10)\n",
    "    if add_or_sum < 4.5:\n",
    "        return div_and_add()\n",
    "    else:\n",
    "        return div_and_sub()\n",
    "\n",
    "leval_4()"
   ]
  },
  {
   "attachments": {},
   "cell_type": "markdown",
   "metadata": {},
   "source": [
    "# Leval 5 Addition OR Subtraktion AND Multiplication OR Division"
   ]
  },
  {
   "cell_type": "code",
   "execution_count": 632,
   "metadata": {},
   "outputs": [],
   "source": [
    "def multi_and_add():\n",
    "    sum = -1\n",
    "    while sum < 0 or sum > 9:\n",
    "        n = [math.floor(random.random()* 10) for i in range(0,3)]\n",
    "        if n[0] and n[1] and n[2] != 0:\n",
    "            if n[0] != 1 and n[1] != 1:\n",
    "                sum = n[0] * n[1] + n[2]\n",
    "    expression = f'{n[0]} x {n[1]} - {n[2]}'\n",
    "    string = f'{num[n[0]]} times {num[n[1]]} plus {num[n[2]]}'\n",
    "    return string, expression, sum\n",
    "\n",
    "def multi_and_sub():\n",
    "    sum = -1\n",
    "    while sum < 0 or sum > 9:\n",
    "        n = [math.floor(random.random()* 10) for i in range(0,3)]\n",
    "        if n[0] and n[1] and n[2] != 0:\n",
    "            if n[0] != 1 and n[1] != 1:\n",
    "                sum = n[0] * n[1] - n[2]\n",
    "    expression = f'{n[0]} x {n[1]} - {n[2]}'\n",
    "    string = f'{num[n[0]]} times {num[n[1]]} minus {num[n[2]]}'\n",
    "    return string, expression, sum\n"
   ]
  },
  {
   "cell_type": "code",
   "execution_count": 638,
   "metadata": {},
   "outputs": [
    {
     "name": "stdout",
     "output_type": "stream",
     "text": [
      "2\n"
     ]
    },
    {
     "data": {
      "text/plain": [
       "('two times four minus six', '2 x 4 - 6')"
      ]
     },
     "execution_count": 638,
     "metadata": {},
     "output_type": "execute_result"
    }
   ],
   "source": [
    "def leval_5():\n",
    "    add_or_sum = math.floor(random.random()* 10)\n",
    "    if add_or_sum < 4.5:\n",
    "        return multi_and_add()\n",
    "    else:\n",
    "        return multi_and_sub()\n",
    "\n",
    "leval_5()"
   ]
  }
 ],
 "metadata": {
  "kernelspec": {
   "display_name": "env_ML",
   "language": "python",
   "name": "python3"
  },
  "language_info": {
   "codemirror_mode": {
    "name": "ipython",
    "version": 3
   },
   "file_extension": ".py",
   "mimetype": "text/x-python",
   "name": "python",
   "nbconvert_exporter": "python",
   "pygments_lexer": "ipython3",
   "version": "3.8.9 (default, Apr 13 2022, 08:48:07) \n[Clang 13.1.6 (clang-1316.0.21.2.5)]"
  },
  "orig_nbformat": 4,
  "vscode": {
   "interpreter": {
    "hash": "abfa51e476eb69850ebc79548caedde31c637b7aa6dca903610086b5d05c70c9"
   }
  }
 },
 "nbformat": 4,
 "nbformat_minor": 2
}
